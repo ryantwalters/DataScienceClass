{
 "cells": [
  {
   "cell_type": "code",
   "execution_count": 5,
   "metadata": {},
   "outputs": [
    {
     "name": "stdout",
     "output_type": "stream",
     "text": [
      "Executing B.f\n",
      "Executing C.g\n",
      "(<class '__main__.B'>, <class 'object'>)\n",
      "[<class '__main__.C'>, <class '__main__.B'>, <class 'object'>]\n"
     ]
    }
   ],
   "source": [
    "class B(object):\n",
    "    def f(self):\n",
    "        print(\"Executing B.f\")\n",
    "    def g(self):\n",
    "        print(\"Executing B.g\")\n",
    "    \n",
    "class C(B):\n",
    "     def g(self):\n",
    "        print(\"Executing C.g\")\n",
    "        \n",
    "x = C()\n",
    "x.f()\n",
    "x.g()\n",
    "\n",
    "print(B.__mro__)\n",
    "print(C.mro())"
   ]
  },
  {
   "cell_type": "code",
   "execution_count": 7,
   "metadata": {},
   "outputs": [
    {
     "name": "stdout",
     "output_type": "stream",
     "text": [
      "Constructor C\n",
      "(<class '__main__.C'>, <class '__main__.A'>, <class '__main__.B'>, <class 'object'>)\n",
      "[<class '__main__.C'>, <class '__main__.A'>, <class '__main__.B'>, <class 'object'>]\n"
     ]
    }
   ],
   "source": [
    "class A: \n",
    "    def rk(self): \n",
    "        print(\" In class A\") \n",
    "class B: \n",
    "    def rk(self): \n",
    "        print(\" In class B\") \n",
    "\n",
    "#classes ordering \n",
    "\n",
    "class C(A, B): \n",
    "    def __init__(self): \n",
    "        print(\"Constructor C\")\n",
    "        \n",
    "r = C()\n",
    "  \n",
    "# it prints the lookup order  \n",
    "print(C.__mro__) \n",
    "print(C.mro())"
   ]
  },
  {
   "cell_type": "code",
   "execution_count": 19,
   "metadata": {},
   "outputs": [
    {
     "name": "stdout",
     "output_type": "stream",
     "text": [
      "First Name: ryan\n",
      "Last Name: walters\n",
      "Student ID: 2130895724\n",
      "Enter each grade separated by a space: 98,98,98,98,98\n",
      "ryan walters Student ID 2130895724 has an A.\n"
     ]
    }
   ],
   "source": [
    "#Homework Question\n",
    "\n",
    "class Person:\n",
    "\n",
    "#Why do you put double underscore for init but not calcGrades? Is calcGrades a Constructor?\n",
    "#Double underscore is for overloading.  Used when you are applying functions to the class.\n",
    "    def __init__(self, firstName, lastName):\n",
    "            self.firstName = firstName\n",
    "            self.lastName = lastName\n",
    "    \n",
    "class Student(Person):\n",
    "    \n",
    "    def __init__(self, firstName, lastName, student_id):\n",
    "        self.id = int(student_id)\n",
    "#Here you are pulling the information from the class, Person, into the class, Student.\n",
    "        Person.__init__(self, firstName, lastName)\n",
    "        \n",
    "    def calcGrades(self, list):\n",
    "        points = 0\n",
    "#Sets total to the length (or count) of the list. Ex. 60, 70, 80, 90, 100, would be a length of 5.\n",
    "        total = len(list)\n",
    "        \n",
    "        for num in list:\n",
    "            points = points + num\n",
    "            \n",
    "        gpa = points/total\n",
    "        \n",
    "        if gpa >= 90 and gpa <= 100:\n",
    "            print(self.firstName + \" \" + self.lastName + \" Student ID \" + str(self.id) + \" has an A.\")\n",
    "        elif gpa >= 80 and gpa <= 89:\n",
    "            print(self.firstName + \" \" + self.lastName + \" Student ID \" + str(self.id) + \" has a B.\")\n",
    "        elif gpa >= 70 and gpa <= 79:\n",
    "            print(self.firstName + \" \" + self.lastName + \" Student ID \" + str(self.id) + \" has a C.\")\n",
    "        elif gpa >= 60 and gpa <= 69:\n",
    "            print(self.firstName + \" \" + self.lastName + \" Student ID \" + str(self.id) + \" has a D.\")\n",
    "        elif gpa < 60:\n",
    "            print(self.firstName + \" \" + self.lastName + \" Student ID \" + str(self.id) + \" has failed.\")\n",
    "\n",
    "#Why the 1 after person1?  No reason, just the name of the variable.\n",
    "person1 = Student(str(input(\"First Name: \")),str(input(\"Last Name: \")),int(input(\"Student ID: \")))\n",
    "grades = input(\"Enter each grade separated by a space: \")\n",
    "#What does the \"map\" function do?  It passes the function through the list or argument(s) provided.\n",
    "#What does the \"split\" function do?  Separates the entry into a list based on the character provided.\n",
    "    #If no character is provided, it will default to a space.\n",
    "grades = list(map(int, grades.split()))\n",
    "person1.calcGrades(grades)"
   ]
  }
 ],
 "metadata": {
  "kernelspec": {
   "display_name": "Python 3",
   "language": "python",
   "name": "python3"
  },
  "language_info": {
   "codemirror_mode": {
    "name": "ipython",
    "version": 3
   },
   "file_extension": ".py",
   "mimetype": "text/x-python",
   "name": "python",
   "nbconvert_exporter": "python",
   "pygments_lexer": "ipython3",
   "version": "3.8.5"
  }
 },
 "nbformat": 4,
 "nbformat_minor": 4
}
